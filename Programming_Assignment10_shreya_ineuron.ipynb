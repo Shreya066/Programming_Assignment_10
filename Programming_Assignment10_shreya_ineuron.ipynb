{
 "cells": [
  {
   "cell_type": "markdown",
   "id": "8c5e7f78",
   "metadata": {},
   "source": [
    "**1. Write a Python program to find sum of elements in list?**"
   ]
  },
  {
   "cell_type": "code",
   "execution_count": 1,
   "id": "7a76e407",
   "metadata": {},
   "outputs": [
    {
     "name": "stdout",
     "output_type": "stream",
     "text": [
      "Sum of all element in given list :  348\n"
     ]
    }
   ],
   "source": [
    "a = 0\n",
    "list = [15,34,68,90,53,67,11,2,8]\n",
    "for ele in range(0,len(list)):\n",
    "    a = a+list[ele]\n",
    "print(\"Sum of all element in given list : \", a)"
   ]
  },
  {
   "cell_type": "markdown",
   "id": "82d5e5c0",
   "metadata": {},
   "source": [
    "**2. Write a Python program to Multiply all numbers in the list?**"
   ]
  },
  {
   "cell_type": "code",
   "execution_count": 2,
   "id": "7881c17d",
   "metadata": {},
   "outputs": [
    {
     "name": "stdout",
     "output_type": "stream",
     "text": [
      "6\n",
      "120\n"
     ]
    }
   ],
   "source": [
    "import math\n",
    "list1 = [1,2,3]\n",
    "list2 = [4,5,6]\n",
    "\n",
    "result1 = math.prod(list1)\n",
    "result2 = math.prod(list2)\n",
    "print(result1)\n",
    "print(result2)"
   ]
  },
  {
   "cell_type": "markdown",
   "id": "1f46004a",
   "metadata": {},
   "source": [
    "**3. Write a Python program to find smallest number in a list?**"
   ]
  },
  {
   "cell_type": "code",
   "execution_count": 3,
   "id": "c4c08f86",
   "metadata": {},
   "outputs": [
    {
     "name": "stdout",
     "output_type": "stream",
     "text": [
      "Smallest element in the list is 2\n"
     ]
    }
   ],
   "source": [
    "list = [15,34,68,90,53,67,11,2,8]\n",
    "print(\"Smallest element in the list is\", min(list))"
   ]
  },
  {
   "cell_type": "markdown",
   "id": "9f656b96",
   "metadata": {},
   "source": [
    "**4. Write a Python program to find largest number in a list?**"
   ]
  },
  {
   "cell_type": "code",
   "execution_count": 4,
   "id": "860ffd6f",
   "metadata": {},
   "outputs": [
    {
     "name": "stdout",
     "output_type": "stream",
     "text": [
      "Largest element in the list is 90\n"
     ]
    }
   ],
   "source": [
    "list = [15,34,68,90,53,67,11,2,8]\n",
    "print(\"Largest element in the list is\", max(list))"
   ]
  },
  {
   "cell_type": "markdown",
   "id": "29d701eb",
   "metadata": {},
   "source": [
    "**5. Write a Python program to find second largest number in a list?**"
   ]
  },
  {
   "cell_type": "code",
   "execution_count": 5,
   "id": "9b3be0a5",
   "metadata": {},
   "outputs": [
    {
     "name": "stdout",
     "output_type": "stream",
     "text": [
      "Second largest element in the list is 68\n"
     ]
    }
   ],
   "source": [
    "list = [15,34,68,90,53,67,11,2,8]\n",
    "print(\"Second largest element in the list is\", sorted(list)[-2])"
   ]
  },
  {
   "cell_type": "markdown",
   "id": "b4705a61",
   "metadata": {},
   "source": [
    "**6. Write a Python program to find N largest elements from a list?**"
   ]
  },
  {
   "cell_type": "code",
   "execution_count": 6,
   "id": "fbd7dd33",
   "metadata": {},
   "outputs": [
    {
     "name": "stdout",
     "output_type": "stream",
     "text": [
      "[90, 68]\n"
     ]
    }
   ],
   "source": [
    "def N_max_elements(list, N):\n",
    "    final_list = []\n",
    "    for i in range(0,N):\n",
    "        max1 = 0\n",
    "        for j in range(len(list)):\n",
    "            if list[j] > max1:\n",
    "                max1 = list[j]\n",
    "        list.remove(max1)\n",
    "        final_list.append(max1)\n",
    "    print(final_list)\n",
    "\n",
    "list = [15,34,68,90,53,67,11,2,8]\n",
    "N=2\n",
    "\n",
    "N_max_elements(list,N)"
   ]
  },
  {
   "cell_type": "markdown",
   "id": "5e19b7d3",
   "metadata": {},
   "source": [
    "**7. Write a Python program to print even numbers in a list?**"
   ]
  },
  {
   "cell_type": "code",
   "execution_count": 7,
   "id": "cffd9b1b",
   "metadata": {},
   "outputs": [
    {
     "name": "stdout",
     "output_type": "stream",
     "text": [
      "34 68 90 2 8 "
     ]
    }
   ],
   "source": [
    "list = [15,34,68,90,53,67,11,2,8]\n",
    "\n",
    "for n in list:\n",
    "    if n%2 == 0:\n",
    "        print(n, end=\" \")"
   ]
  },
  {
   "cell_type": "markdown",
   "id": "cd4c4059",
   "metadata": {},
   "source": [
    "**8. Write a Python program to print odd numbers in a List?**"
   ]
  },
  {
   "cell_type": "code",
   "execution_count": 8,
   "id": "0082e8c7",
   "metadata": {},
   "outputs": [
    {
     "name": "stdout",
     "output_type": "stream",
     "text": [
      "15 53 67 11 "
     ]
    }
   ],
   "source": [
    "list = [15,34,68,90,53,67,11,2,8]\n",
    "\n",
    "for n in list:\n",
    "    if n%2 != 0:\n",
    "        print(n, end=\" \")"
   ]
  },
  {
   "cell_type": "markdown",
   "id": "1277c268",
   "metadata": {},
   "source": [
    "**9. Write a Python program to Remove empty List from List?**"
   ]
  },
  {
   "cell_type": "code",
   "execution_count": 9,
   "id": "b70d08e6",
   "metadata": {},
   "outputs": [
    {
     "name": "stdout",
     "output_type": "stream",
     "text": [
      "The original list is :[7, 8, [], 5, [], [], 8, 9, 4]\n",
      "List after empty list removal :[7, 8, 5, 8, 9, 4]\n"
     ]
    }
   ],
   "source": [
    "list = [7,8,[],5,[],[], 8,9,4]\n",
    "print(\"The original list is :\" + str(list))\n",
    "new_list = [ele for ele in list if ele != []]\n",
    "print(\"List after empty list removal :\" + str(new_list))"
   ]
  },
  {
   "cell_type": "markdown",
   "id": "d40c1907",
   "metadata": {},
   "source": [
    "**10. Write a Python program to Cloning or Copying a list?**"
   ]
  },
  {
   "cell_type": "code",
   "execution_count": 10,
   "id": "0da2008b",
   "metadata": {},
   "outputs": [
    {
     "name": "stdout",
     "output_type": "stream",
     "text": [
      "Cloned list : [1, 2, 3, 4, 5, 6]\n"
     ]
    }
   ],
   "source": [
    "import copy\n",
    "list1 = [1,2,3,4,5,6]\n",
    "list2 = copy.copy(list1)\n",
    "print(\"Cloned list :\", list2)"
   ]
  },
  {
   "cell_type": "markdown",
   "id": "eeffbbc5",
   "metadata": {},
   "source": [
    "**11. Write a Python program to Count occurrences of an element in a list?**"
   ]
  },
  {
   "cell_type": "code",
   "execution_count": 11,
   "id": "64516b27",
   "metadata": {},
   "outputs": [
    {
     "name": "stdout",
     "output_type": "stream",
     "text": [
      "Enter a number to find number of ocurance in list :8\n",
      "8 has occured 4 times\n"
     ]
    }
   ],
   "source": [
    "def count(list,x):\n",
    "    return list.count(x)\n",
    "list = [1,2,3,4,5,1,3,5,8,9,8,7,8,8]\n",
    "x = int(input(\"Enter a number to find number of ocurance in list :\"))\n",
    "print(\"{} has occured {} times\".format(x, count(list,x)))"
   ]
  }
 ],
 "metadata": {
  "kernelspec": {
   "display_name": "Python 3 (ipykernel)",
   "language": "python",
   "name": "python3"
  },
  "language_info": {
   "codemirror_mode": {
    "name": "ipython",
    "version": 3
   },
   "file_extension": ".py",
   "mimetype": "text/x-python",
   "name": "python",
   "nbconvert_exporter": "python",
   "pygments_lexer": "ipython3",
   "version": "3.9.7"
  }
 },
 "nbformat": 4,
 "nbformat_minor": 5
}
